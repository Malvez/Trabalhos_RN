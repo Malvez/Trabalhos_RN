{
  "nbformat": 4,
  "nbformat_minor": 0,
  "metadata": {
    "colab": {
      "provenance": []
    },
    "kernelspec": {
      "name": "python3",
      "display_name": "Python 3"
    },
    "language_info": {
      "name": "python"
    }
  },
  "cells": [
    {
      "cell_type": "markdown",
      "metadata": {
        "id": "view-in-github",
        "colab_type": "text"
      },
      "source": [
        "<a href=\"https://colab.research.google.com/gist/Malvez/0b49aed3ac5910a75d23dc3b5853a577/implementa-o-do-backpropagation-em-python.ipynb\" target=\"_parent\"><img src=\"https://colab.research.google.com/assets/colab-badge.svg\" alt=\"Open In Colab\"/></a>"
      ]
    },
    {
      "cell_type": "code",
      "execution_count": null,
      "metadata": {
        "id": "X5zt6SlpNAVv"
      },
      "outputs": [],
      "source": [
        "import numpy as np\n",
        "from sklearn.neural_network import MLPClassifier\n",
        "from sklearn.model_selection import cross_validate\n",
        "from sklearn.model_selection import cross_val_score\n",
        "from sklearn.datasets import make_blobs\n",
        "from sklearn.metrics import confusion_matrix\n",
        "from sklearn.metrics import classification_report"
      ]
    },
    {
      "cell_type": "code",
      "source": [
        "class MLP:\n",
        "\n",
        "    def __init__(self, lr=0.1, num_input=2, num_hidden=2, num_output=1):\n",
        "\n",
        "        self.lr = lr\n",
        "\n",
        "        self.W1 = np.random.uniform(size=(num_input, num_hidden))\n",
        "        self.W2 = np.random.uniform(size=(num_hidden, num_output))\n",
        "\n",
        "        self.b1 = np.random.uniform(size=(1, num_hidden))\n",
        "        self.b2 = np.random.uniform(size=(1, num_output))\n",
        "\n",
        "        self.hidden_ = None\n",
        "        self.hidden_out = None\n",
        "        self.output_ = None\n",
        "        self.y_pred = None\n",
        "\n",
        "    def forward(self, X):\n",
        "\n",
        "        self.hidden_ = np.dot(X, self.W1) + self.b1\n",
        "        self.hidden_out = self._sigmoid(self.hidden_)\n",
        "\n",
        "        self.output_ = np.dot(self.hidden_out, self.W2) + self.b2\n",
        "        self.y_pred = self._sigmoid(self.output_)\n",
        "\n",
        "        return self.y_pred\n",
        "\n",
        "    def backward(self, X, y):\n",
        "\n",
        "        error = (y - self.y_pred)\n",
        "\n",
        "        d_out_final = error * self._sigmoid(self.y_pred, derivate=True)\n",
        "\n",
        "        d_out = d_out_final * self.W2.T\n",
        "\n",
        "        d_hidden_out = d_out * self._sigmoid(self.hidden_out, derivate=True)\n",
        "\n",
        "        grad1 = np.dot(X.T, d_hidden_out)\n",
        "\n",
        "        grad2 = np.dot(self.hidden_out.T, d_out_final)\n",
        "\n",
        "        self.W1 += self.lr * grad1\n",
        "        self.W2 += self.lr * grad2\n",
        "\n",
        "        self.b1 += np.sum(self.lr * d_hidden_out, axis=0)\n",
        "        self.b2 += np.sum(self.lr * d_out_final, axis=0)\n",
        "\n",
        "    def _sigmoid(self, x, derivate=False):\n",
        "        if derivate:\n",
        "            return x * (1 - x)\n",
        "        return 1 / (1 + np.exp(-x))\n",
        "\n",
        "    def classify(self, x):\n",
        "        x = np.transpose(x)\n",
        "        if self.forward(x) >= 0.5:\n",
        "            return 1\n",
        "        return 0\n",
        "\n",
        "    def predict(self, X):\n",
        "        preds = []\n",
        "        for x in X:\n",
        "            x = np.transpose(x)\n",
        "            if self.forward(x) >= 0.5:\n",
        "                preds.append(1)\n",
        "            else:\n",
        "                preds.append(0)\n",
        "        return preds\n",
        "\n",
        "    def fit(self, X, y, num_epochs=1):\n",
        "        for _ in range(num_epochs):\n",
        "            self.forward(X)\n",
        "            self.backward(X, y)"
      ],
      "metadata": {
        "id": "abuO0NvwNLlO"
      },
      "execution_count": null,
      "outputs": []
    },
    {
      "cell_type": "code",
      "source": [
        "def criaDataset(n=10, centros=3):\n",
        "  X, y = make_blobs(n_samples=n, centers=centros, cluster_std=0.2)\n",
        "  y = y.reshape(-1, 1)\n",
        "  return X, y"
      ],
      "metadata": {
        "id": "gjEsAnEGV97r"
      },
      "execution_count": null,
      "outputs": []
    },
    {
      "cell_type": "code",
      "source": [
        "X, y = criaDataset()"
      ],
      "metadata": {
        "id": "qg6USTbbYmTZ"
      },
      "execution_count": null,
      "outputs": []
    },
    {
      "cell_type": "code",
      "source": [
        "mlp = MLP(lr=0.2, num_input=X.shape[1], num_hidden=5, num_output=1)\n",
        "\n",
        "mlp.fit(X, y, num_epochs=1500)\n",
        "\n",
        "y_pred = mlp.predict(X)\n",
        "\n",
        "print('\\nY_pred:', y_pred)"
      ],
      "metadata": {
        "colab": {
          "base_uri": "https://localhost:8080/"
        },
        "id": "hfW3WtiyUyeO",
        "outputId": "0d1507dd-779f-4737-fe17-981ea5c025e8"
      },
      "execution_count": null,
      "outputs": [
        {
          "output_type": "stream",
          "name": "stdout",
          "text": [
            "\n",
            "Y_pred: [1, 0, 1, 0, 1, 1, 1, 0, 1, 0]\n"
          ]
        }
      ]
    },
    {
      "cell_type": "code",
      "source": [
        "cm_mlp = confusion_matrix(y, y_pred)\n",
        "cm_mlp"
      ],
      "metadata": {
        "colab": {
          "base_uri": "https://localhost:8080/"
        },
        "id": "HegNv-qlbamW",
        "outputId": "c43171ba-8b33-4b01-9615-abeb7fa86b95"
      },
      "execution_count": null,
      "outputs": [
        {
          "output_type": "execute_result",
          "data": {
            "text/plain": [
              "array([[4, 0, 0],\n",
              "       [0, 3, 0],\n",
              "       [0, 3, 0]])"
            ]
          },
          "metadata": {},
          "execution_count": 8
        }
      ]
    },
    {
      "cell_type": "code",
      "source": [
        "print(classification_report(y, y_pred, labels=None))"
      ],
      "metadata": {
        "colab": {
          "base_uri": "https://localhost:8080/"
        },
        "id": "dOw4rB1TcbRb",
        "outputId": "073c1bd9-8d81-48fa-afeb-a667f83ebb03"
      },
      "execution_count": null,
      "outputs": [
        {
          "output_type": "stream",
          "name": "stdout",
          "text": [
            "              precision    recall  f1-score   support\n",
            "\n",
            "           0       1.00      1.00      1.00         4\n",
            "           1       0.50      1.00      0.67         3\n",
            "           2       0.00      0.00      0.00         3\n",
            "\n",
            "    accuracy                           0.70        10\n",
            "   macro avg       0.50      0.67      0.56        10\n",
            "weighted avg       0.55      0.70      0.60        10\n",
            "\n"
          ]
        },
        {
          "output_type": "stream",
          "name": "stderr",
          "text": [
            "/usr/local/lib/python3.10/dist-packages/sklearn/metrics/_classification.py:1344: UndefinedMetricWarning: Precision and F-score are ill-defined and being set to 0.0 in labels with no predicted samples. Use `zero_division` parameter to control this behavior.\n",
            "  _warn_prf(average, modifier, msg_start, len(result))\n",
            "/usr/local/lib/python3.10/dist-packages/sklearn/metrics/_classification.py:1344: UndefinedMetricWarning: Precision and F-score are ill-defined and being set to 0.0 in labels with no predicted samples. Use `zero_division` parameter to control this behavior.\n",
            "  _warn_prf(average, modifier, msg_start, len(result))\n",
            "/usr/local/lib/python3.10/dist-packages/sklearn/metrics/_classification.py:1344: UndefinedMetricWarning: Precision and F-score are ill-defined and being set to 0.0 in labels with no predicted samples. Use `zero_division` parameter to control this behavior.\n",
            "  _warn_prf(average, modifier, msg_start, len(result))\n"
          ]
        }
      ]
    },
    {
      "cell_type": "code",
      "source": [
        "mlp_skl = MLPClassifier(max_iter=100)\n",
        "\n",
        "mlp_skl.fit(X, y)\n",
        "\n",
        "y_pred_skl = mlp_skl.predict(X)\n",
        "\n",
        "#print('\\nY_pred:', y_pred_skl)"
      ],
      "metadata": {
        "colab": {
          "base_uri": "https://localhost:8080/"
        },
        "id": "Huoue1KJbyyE",
        "outputId": "5ff043bf-e15e-4041-a515-6e4907c5009a"
      },
      "execution_count": null,
      "outputs": [
        {
          "output_type": "stream",
          "name": "stderr",
          "text": [
            "/usr/local/lib/python3.10/dist-packages/sklearn/neural_network/_multilayer_perceptron.py:1098: DataConversionWarning: A column-vector y was passed when a 1d array was expected. Please change the shape of y to (n_samples, ), for example using ravel().\n",
            "  y = column_or_1d(y, warn=True)\n",
            "/usr/local/lib/python3.10/dist-packages/sklearn/neural_network/_multilayer_perceptron.py:686: ConvergenceWarning: Stochastic Optimizer: Maximum iterations (100) reached and the optimization hasn't converged yet.\n",
            "  warnings.warn(\n"
          ]
        }
      ]
    },
    {
      "cell_type": "code",
      "source": [
        "cm_mlp_skl = confusion_matrix(y, y_pred_skl)\n",
        "cm_mlp_skl"
      ],
      "metadata": {
        "colab": {
          "base_uri": "https://localhost:8080/"
        },
        "id": "p894HpTXbH6t",
        "outputId": "6002c372-9f46-4945-97ce-41559fab3bfc"
      },
      "execution_count": null,
      "outputs": [
        {
          "output_type": "execute_result",
          "data": {
            "text/plain": [
              "array([[4, 0, 0],\n",
              "       [0, 3, 0],\n",
              "       [0, 0, 3]])"
            ]
          },
          "metadata": {},
          "execution_count": 11
        }
      ]
    },
    {
      "cell_type": "code",
      "source": [
        "scores = cross_validate(MLPClassifier(), X, y, cv=4)\n",
        "scores['test_score'], np.mean(scores['test_score'])"
      ],
      "metadata": {
        "colab": {
          "base_uri": "https://localhost:8080/"
        },
        "id": "K_SClu7lUsv7",
        "outputId": "822507e5-9a6a-49e0-e34c-f572ebab1a21"
      },
      "execution_count": null,
      "outputs": [
        {
          "output_type": "stream",
          "name": "stderr",
          "text": [
            "/usr/local/lib/python3.10/dist-packages/sklearn/model_selection/_split.py:700: UserWarning: The least populated class in y has only 3 members, which is less than n_splits=4.\n",
            "  warnings.warn(\n",
            "/usr/local/lib/python3.10/dist-packages/sklearn/neural_network/_multilayer_perceptron.py:1098: DataConversionWarning: A column-vector y was passed when a 1d array was expected. Please change the shape of y to (n_samples, ), for example using ravel().\n",
            "  y = column_or_1d(y, warn=True)\n",
            "/usr/local/lib/python3.10/dist-packages/sklearn/neural_network/_multilayer_perceptron.py:686: ConvergenceWarning: Stochastic Optimizer: Maximum iterations (200) reached and the optimization hasn't converged yet.\n",
            "  warnings.warn(\n",
            "/usr/local/lib/python3.10/dist-packages/sklearn/neural_network/_multilayer_perceptron.py:1098: DataConversionWarning: A column-vector y was passed when a 1d array was expected. Please change the shape of y to (n_samples, ), for example using ravel().\n",
            "  y = column_or_1d(y, warn=True)\n",
            "/usr/local/lib/python3.10/dist-packages/sklearn/neural_network/_multilayer_perceptron.py:686: ConvergenceWarning: Stochastic Optimizer: Maximum iterations (200) reached and the optimization hasn't converged yet.\n",
            "  warnings.warn(\n",
            "/usr/local/lib/python3.10/dist-packages/sklearn/neural_network/_multilayer_perceptron.py:1098: DataConversionWarning: A column-vector y was passed when a 1d array was expected. Please change the shape of y to (n_samples, ), for example using ravel().\n",
            "  y = column_or_1d(y, warn=True)\n",
            "/usr/local/lib/python3.10/dist-packages/sklearn/neural_network/_multilayer_perceptron.py:686: ConvergenceWarning: Stochastic Optimizer: Maximum iterations (200) reached and the optimization hasn't converged yet.\n",
            "  warnings.warn(\n",
            "/usr/local/lib/python3.10/dist-packages/sklearn/neural_network/_multilayer_perceptron.py:1098: DataConversionWarning: A column-vector y was passed when a 1d array was expected. Please change the shape of y to (n_samples, ), for example using ravel().\n",
            "  y = column_or_1d(y, warn=True)\n",
            "/usr/local/lib/python3.10/dist-packages/sklearn/neural_network/_multilayer_perceptron.py:686: ConvergenceWarning: Stochastic Optimizer: Maximum iterations (200) reached and the optimization hasn't converged yet.\n",
            "  warnings.warn(\n"
          ]
        },
        {
          "output_type": "execute_result",
          "data": {
            "text/plain": [
              "(array([1., 1., 1., 1.]), 1.0)"
            ]
          },
          "metadata": {},
          "execution_count": 12
        }
      ]
    },
    {
      "cell_type": "code",
      "source": [
        "print(classification_report(y, y_pred_skl, labels=None))"
      ],
      "metadata": {
        "colab": {
          "base_uri": "https://localhost:8080/"
        },
        "id": "0PBRrhJFbu2q",
        "outputId": "035a8987-3660-4ab3-9dad-4f959c228b78"
      },
      "execution_count": null,
      "outputs": [
        {
          "output_type": "stream",
          "name": "stdout",
          "text": [
            "              precision    recall  f1-score   support\n",
            "\n",
            "           0       1.00      1.00      1.00         4\n",
            "           1       1.00      1.00      1.00         3\n",
            "           2       1.00      1.00      1.00         3\n",
            "\n",
            "    accuracy                           1.00        10\n",
            "   macro avg       1.00      1.00      1.00        10\n",
            "weighted avg       1.00      1.00      1.00        10\n",
            "\n"
          ]
        }
      ]
    }
  ]
}
